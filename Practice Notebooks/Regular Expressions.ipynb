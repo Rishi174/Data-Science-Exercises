{
 "cells": [
  {
   "cell_type": "markdown",
   "metadata": {},
   "source": [
    "Firstly I would like to thank Corey Schafer for the amazing tutorial in Youtube for dealing with Regular Expressions. The examples in this notebook are partly taken from his tutorial"
   ]
  },
  {
   "cell_type": "code",
   "execution_count": 1,
   "metadata": {},
   "outputs": [],
   "source": [
    "sample='Rishi is working for MNC.Istanbul is capital of Turkey.There are 24 hours in a day.'"
   ]
  },
  {
   "cell_type": "code",
   "execution_count": 10,
   "metadata": {},
   "outputs": [],
   "source": [
    "import re"
   ]
  },
  {
   "cell_type": "code",
   "execution_count": 31,
   "metadata": {},
   "outputs": [
    {
     "name": "stdout",
     "output_type": "stream",
     "text": [
      "<re.Match object; span=(0, 1), match='R'>\n",
      "<re.Match object; span=(1, 2), match='i'>\n",
      "<re.Match object; span=(2, 3), match='s'>\n",
      "<re.Match object; span=(3, 4), match='h'>\n",
      "<re.Match object; span=(4, 5), match='i'>\n",
      "<re.Match object; span=(5, 6), match=' '>\n",
      "<re.Match object; span=(6, 7), match='i'>\n",
      "<re.Match object; span=(7, 8), match='s'>\n",
      "<re.Match object; span=(8, 9), match=' '>\n",
      "<re.Match object; span=(9, 10), match='w'>\n",
      "<re.Match object; span=(10, 11), match='o'>\n",
      "<re.Match object; span=(11, 12), match='r'>\n",
      "<re.Match object; span=(12, 13), match='k'>\n",
      "<re.Match object; span=(13, 14), match='i'>\n",
      "<re.Match object; span=(14, 15), match='n'>\n",
      "<re.Match object; span=(15, 16), match='g'>\n",
      "<re.Match object; span=(16, 17), match=' '>\n",
      "<re.Match object; span=(17, 18), match='f'>\n",
      "<re.Match object; span=(18, 19), match='o'>\n",
      "<re.Match object; span=(19, 20), match='r'>\n",
      "<re.Match object; span=(20, 21), match=' '>\n",
      "<re.Match object; span=(21, 22), match='M'>\n",
      "<re.Match object; span=(22, 23), match='N'>\n",
      "<re.Match object; span=(23, 24), match='C'>\n",
      "<re.Match object; span=(24, 25), match='.'>\n",
      "<re.Match object; span=(25, 26), match='I'>\n",
      "<re.Match object; span=(26, 27), match='s'>\n",
      "<re.Match object; span=(27, 28), match='t'>\n",
      "<re.Match object; span=(28, 29), match='a'>\n",
      "<re.Match object; span=(29, 30), match='n'>\n",
      "<re.Match object; span=(30, 31), match='b'>\n",
      "<re.Match object; span=(31, 32), match='u'>\n",
      "<re.Match object; span=(32, 33), match='l'>\n",
      "<re.Match object; span=(33, 34), match=' '>\n",
      "<re.Match object; span=(34, 35), match='i'>\n",
      "<re.Match object; span=(35, 36), match='s'>\n",
      "<re.Match object; span=(36, 37), match=' '>\n",
      "<re.Match object; span=(37, 38), match='c'>\n",
      "<re.Match object; span=(38, 39), match='a'>\n",
      "<re.Match object; span=(39, 40), match='p'>\n",
      "<re.Match object; span=(40, 41), match='i'>\n",
      "<re.Match object; span=(41, 42), match='t'>\n",
      "<re.Match object; span=(42, 43), match='a'>\n",
      "<re.Match object; span=(43, 44), match='l'>\n",
      "<re.Match object; span=(44, 45), match=' '>\n",
      "<re.Match object; span=(45, 46), match='o'>\n",
      "<re.Match object; span=(46, 47), match='f'>\n",
      "<re.Match object; span=(47, 48), match=' '>\n",
      "<re.Match object; span=(48, 49), match='T'>\n",
      "<re.Match object; span=(49, 50), match='u'>\n",
      "<re.Match object; span=(50, 51), match='r'>\n",
      "<re.Match object; span=(51, 52), match='k'>\n",
      "<re.Match object; span=(52, 53), match='e'>\n",
      "<re.Match object; span=(53, 54), match='y'>\n",
      "<re.Match object; span=(54, 55), match='.'>\n",
      "<re.Match object; span=(55, 56), match='T'>\n",
      "<re.Match object; span=(56, 57), match='h'>\n",
      "<re.Match object; span=(57, 58), match='e'>\n",
      "<re.Match object; span=(58, 59), match='r'>\n",
      "<re.Match object; span=(59, 60), match='e'>\n",
      "<re.Match object; span=(60, 61), match=' '>\n",
      "<re.Match object; span=(61, 62), match='a'>\n",
      "<re.Match object; span=(62, 63), match='r'>\n",
      "<re.Match object; span=(63, 64), match='e'>\n",
      "<re.Match object; span=(64, 65), match=' '>\n",
      "<re.Match object; span=(65, 66), match='2'>\n",
      "<re.Match object; span=(66, 67), match='4'>\n",
      "<re.Match object; span=(67, 68), match=' '>\n",
      "<re.Match object; span=(68, 69), match='h'>\n",
      "<re.Match object; span=(69, 70), match='o'>\n",
      "<re.Match object; span=(70, 71), match='u'>\n",
      "<re.Match object; span=(71, 72), match='r'>\n",
      "<re.Match object; span=(72, 73), match='s'>\n",
      "<re.Match object; span=(73, 74), match=' '>\n",
      "<re.Match object; span=(74, 75), match='i'>\n",
      "<re.Match object; span=(75, 76), match='n'>\n",
      "<re.Match object; span=(76, 77), match=' '>\n",
      "<re.Match object; span=(77, 78), match='a'>\n",
      "<re.Match object; span=(78, 79), match=' '>\n",
      "<re.Match object; span=(79, 80), match='d'>\n",
      "<re.Match object; span=(80, 81), match='a'>\n",
      "<re.Match object; span=(81, 82), match='y'>\n",
      "<re.Match object; span=(82, 83), match='.'>\n"
     ]
    }
   ],
   "source": [
    "#A period matches every character excluding space,new line, tab spaces\n",
    "pattern=re.compile(r'.')         # re.compile is used to build a pattern for searching\n",
    "matches=pattern.finditer(sample)\n",
    "for match in matches:\n",
    "    print(match)          # Here it gives the position of match and the matched pattern too"
   ]
  },
  {
   "cell_type": "code",
   "execution_count": 32,
   "metadata": {},
   "outputs": [
    {
     "name": "stdout",
     "output_type": "stream",
     "text": [
      "<re.Match object; span=(5, 6), match=' '>\n",
      "<re.Match object; span=(8, 9), match=' '>\n",
      "<re.Match object; span=(16, 17), match=' '>\n",
      "<re.Match object; span=(20, 21), match=' '>\n",
      "<re.Match object; span=(33, 34), match=' '>\n",
      "<re.Match object; span=(36, 37), match=' '>\n",
      "<re.Match object; span=(44, 45), match=' '>\n",
      "<re.Match object; span=(47, 48), match=' '>\n",
      "<re.Match object; span=(60, 61), match=' '>\n",
      "<re.Match object; span=(64, 65), match=' '>\n",
      "<re.Match object; span=(67, 68), match=' '>\n",
      "<re.Match object; span=(73, 74), match=' '>\n",
      "<re.Match object; span=(76, 77), match=' '>\n",
      "<re.Match object; span=(78, 79), match=' '>\n"
     ]
    }
   ],
   "source": [
    "pattern=re.compile(r'\\s')           #searches for a space in the given spring. The '\\' is used to esacpe the regular S\n",
    "matches=pattern.finditer(sample)\n",
    "for match in matches:\n",
    "    print(match)"
   ]
  },
  {
   "cell_type": "code",
   "execution_count": 33,
   "metadata": {},
   "outputs": [
    {
     "name": "stdout",
     "output_type": "stream",
     "text": [
      "<re.Match object; span=(1, 3), match='is'>\n",
      "<re.Match object; span=(6, 8), match='is'>\n",
      "<re.Match object; span=(25, 27), match='Is'>\n",
      "<re.Match object; span=(34, 36), match='is'>\n"
     ]
    }
   ],
   "source": [
    "pattern=re.compile(r'[Ii]s')               # search for a sub-string 'is' in the main string. Here to ensure I is also taken\n",
    "matches=pattern.finditer(sample)           # we have included the sqaure brackets which imply either of the characters can\n",
    "for match in matches:                      # be present\n",
    "    print(match)"
   ]
  },
  {
   "cell_type": "code",
   "execution_count": 36,
   "metadata": {},
   "outputs": [
    {
     "name": "stdout",
     "output_type": "stream",
     "text": [
      "<re.Match object; span=(6, 8), match='is'>\n",
      "<re.Match object; span=(34, 36), match='is'>\n",
      "<re.Match object; span=(1, 3), match='is'>\n"
     ]
    }
   ],
   "source": [
    "pattern=re.compile(r'\\bis\\b')\n",
    "matches=pattern.finditer(sample)    # match for the exact string 'is' using the \\b which denotes boundary. Here on using \\b\n",
    "for match in matches:               #before and after 'is', we are specifying we want is which is having boundary on both sides\n",
    "    print(match)\n",
    "pattern=re.compile(r'\\Bis\\B')\n",
    "matches=pattern.finditer(sample)    # exact opposite of what's written above. captures 'is' when not surrounded by boundaries\n",
    "for match in matches:               #on both sides\n",
    "    print(match)"
   ]
  },
  {
   "cell_type": "code",
   "execution_count": 3,
   "metadata": {},
   "outputs": [
    {
     "name": "stdout",
     "output_type": "stream",
     "text": [
      "<re.Match object; span=(0, 1), match='R'>\n",
      "<re.Match object; span=(1, 2), match='i'>\n",
      "<re.Match object; span=(2, 3), match='s'>\n",
      "<re.Match object; span=(3, 4), match='h'>\n",
      "<re.Match object; span=(4, 5), match='i'>\n",
      "<re.Match object; span=(6, 7), match='i'>\n",
      "<re.Match object; span=(7, 8), match='s'>\n",
      "<re.Match object; span=(9, 10), match='w'>\n",
      "<re.Match object; span=(10, 11), match='o'>\n",
      "<re.Match object; span=(11, 12), match='r'>\n",
      "<re.Match object; span=(12, 13), match='k'>\n",
      "<re.Match object; span=(13, 14), match='i'>\n",
      "<re.Match object; span=(14, 15), match='n'>\n",
      "<re.Match object; span=(15, 16), match='g'>\n",
      "<re.Match object; span=(17, 18), match='f'>\n",
      "<re.Match object; span=(18, 19), match='o'>\n",
      "<re.Match object; span=(19, 20), match='r'>\n",
      "<re.Match object; span=(21, 22), match='M'>\n",
      "<re.Match object; span=(22, 23), match='N'>\n",
      "<re.Match object; span=(23, 24), match='C'>\n",
      "<re.Match object; span=(25, 26), match='I'>\n",
      "<re.Match object; span=(26, 27), match='s'>\n",
      "<re.Match object; span=(27, 28), match='t'>\n",
      "<re.Match object; span=(28, 29), match='a'>\n",
      "<re.Match object; span=(29, 30), match='n'>\n",
      "<re.Match object; span=(30, 31), match='b'>\n",
      "<re.Match object; span=(31, 32), match='u'>\n",
      "<re.Match object; span=(32, 33), match='l'>\n",
      "<re.Match object; span=(34, 35), match='i'>\n",
      "<re.Match object; span=(35, 36), match='s'>\n",
      "<re.Match object; span=(37, 38), match='c'>\n",
      "<re.Match object; span=(38, 39), match='a'>\n",
      "<re.Match object; span=(39, 40), match='p'>\n",
      "<re.Match object; span=(40, 41), match='i'>\n",
      "<re.Match object; span=(41, 42), match='t'>\n",
      "<re.Match object; span=(42, 43), match='a'>\n",
      "<re.Match object; span=(43, 44), match='l'>\n",
      "<re.Match object; span=(45, 46), match='o'>\n",
      "<re.Match object; span=(46, 47), match='f'>\n",
      "<re.Match object; span=(48, 49), match='T'>\n",
      "<re.Match object; span=(49, 50), match='u'>\n",
      "<re.Match object; span=(50, 51), match='r'>\n",
      "<re.Match object; span=(51, 52), match='k'>\n",
      "<re.Match object; span=(52, 53), match='e'>\n",
      "<re.Match object; span=(53, 54), match='y'>\n",
      "<re.Match object; span=(55, 56), match='T'>\n",
      "<re.Match object; span=(56, 57), match='h'>\n",
      "<re.Match object; span=(57, 58), match='e'>\n",
      "<re.Match object; span=(58, 59), match='r'>\n",
      "<re.Match object; span=(59, 60), match='e'>\n",
      "<re.Match object; span=(61, 62), match='a'>\n",
      "<re.Match object; span=(62, 63), match='r'>\n",
      "<re.Match object; span=(63, 64), match='e'>\n",
      "<re.Match object; span=(65, 66), match='2'>\n",
      "<re.Match object; span=(66, 67), match='4'>\n",
      "<re.Match object; span=(68, 69), match='h'>\n",
      "<re.Match object; span=(69, 70), match='o'>\n",
      "<re.Match object; span=(70, 71), match='u'>\n",
      "<re.Match object; span=(71, 72), match='r'>\n",
      "<re.Match object; span=(72, 73), match='s'>\n",
      "<re.Match object; span=(74, 75), match='i'>\n",
      "<re.Match object; span=(75, 76), match='n'>\n",
      "<re.Match object; span=(77, 78), match='a'>\n",
      "<re.Match object; span=(79, 80), match='d'>\n",
      "<re.Match object; span=(80, 81), match='a'>\n",
      "<re.Match object; span=(81, 82), match='y'>\n",
      "\n",
      "\n",
      "<re.Match object; span=(5, 6), match=' '>\n",
      "<re.Match object; span=(8, 9), match=' '>\n",
      "<re.Match object; span=(16, 17), match=' '>\n",
      "<re.Match object; span=(20, 21), match=' '>\n",
      "<re.Match object; span=(24, 25), match='.'>\n",
      "<re.Match object; span=(33, 34), match=' '>\n",
      "<re.Match object; span=(36, 37), match=' '>\n",
      "<re.Match object; span=(44, 45), match=' '>\n",
      "<re.Match object; span=(47, 48), match=' '>\n",
      "<re.Match object; span=(54, 55), match='.'>\n",
      "<re.Match object; span=(60, 61), match=' '>\n",
      "<re.Match object; span=(64, 65), match=' '>\n",
      "<re.Match object; span=(67, 68), match=' '>\n",
      "<re.Match object; span=(73, 74), match=' '>\n",
      "<re.Match object; span=(76, 77), match=' '>\n",
      "<re.Match object; span=(78, 79), match=' '>\n",
      "<re.Match object; span=(82, 83), match='.'>\n"
     ]
    }
   ],
   "source": [
    "pattern=re.compile(r'\\w')                         #matches anything that is a letter or a number, includes underscore too but \n",
    "matches=pattern.finditer(sample)                  #neglects spaces and punctuation\n",
    "for match in matches:               \n",
    "    print(match)\n",
    "print('\\n')\n",
    "pattern=re.compile(r'\\W')\n",
    "matches=pattern.finditer(sample)                  #opposite to the search criteria mentioned above\n",
    "for match in matches:               \n",
    "    print(match)"
   ]
  },
  {
   "cell_type": "code",
   "execution_count": 4,
   "metadata": {},
   "outputs": [
    {
     "name": "stdout",
     "output_type": "stream",
     "text": [
      "<re.Match object; span=(65, 66), match='2'>\n",
      "<re.Match object; span=(66, 67), match='4'>\n"
     ]
    }
   ],
   "source": [
    "pattern=re.compile(r'\\d')                     # looks out for a pattern which is a digit from 0-9, \\D does the reverse of this\n",
    "matches=pattern.finditer(sample)\n",
    "for match in matches:\n",
    "    print(match)"
   ]
  },
  {
   "cell_type": "code",
   "execution_count": 35,
   "metadata": {},
   "outputs": [
    {
     "name": "stdout",
     "output_type": "stream",
     "text": [
      "<re.Match object; span=(0, 13), match='r.k@gmail.com'>\n"
     ]
    }
   ],
   "source": [
    "mail='r.k@gmail.com'\n",
    "pattern=re.compile(r'r\\.k@gmail\\.com')         # an example to show how to search for a period character\n",
    "matches=pattern.finditer(mail)\n",
    "for match in matches:\n",
    "    print(match)"
   ]
  },
  {
   "cell_type": "code",
   "execution_count": 9,
   "metadata": {},
   "outputs": [
    {
     "name": "stdout",
     "output_type": "stream",
     "text": [
      "<re.Match object; span=(0, 5), match='Start'>\n",
      "\n",
      "\n",
      "<re.Match object; span=(41, 44), match='end'>\n"
     ]
    }
   ],
   "source": [
    "sentence='Start a sentence and then bring it to an end'\n",
    "pattern=re.compile(r'^Start')         # '^' symbol  is used to search for pattern at beginning of a string\n",
    "matches=pattern.finditer(sentence)\n",
    "for match in matches:\n",
    "    print(match)\n",
    "print('\\n')\n",
    "pattern=re.compile(r'end$')           # '$' symbol is used to search for pattern at the end of the string \n",
    "matches=pattern.finditer(sentence)\n",
    "for match in matches:\n",
    "    print(match)"
   ]
  },
  {
   "cell_type": "code",
   "execution_count": 17,
   "metadata": {},
   "outputs": [
    {
     "name": "stdout",
     "output_type": "stream",
     "text": [
      "<re.Match object; span=(1, 13), match='123-456-7890'>\n",
      "<re.Match object; span=(14, 26), match='324.231.7890'>\n",
      "<re.Match object; span=(27, 39), match='134*789*5435'>\n",
      "\n",
      "\n",
      "<re.Match object; span=(1, 13), match='123-456-7890'>\n",
      "<re.Match object; span=(14, 26), match='324.231.7890'>\n"
     ]
    }
   ],
   "source": [
    "numbers='''\n",
    "123-456-7890\n",
    "324.231.7890\n",
    "134*789*5435\n",
    "'''\n",
    "pattern=re.compile(r'\\d\\d\\d.\\d\\d\\d.\\d\\d\\d\\d')   # here \\d looks for a digit and hence the pattern we compiled is looking for \n",
    "matches=pattern.finditer(numbers)               #3 numbers is consecutive places followed by a period(.),which means anything\n",
    "for match in matches:                           #can occur followed by 3 more digits and a period and 4 digits at the end\n",
    "    print(match)\n",
    "print('\\n')\n",
    "# In order to match only '-' and '.' we have to use \"character set\" enclised in square brackets as shown below which basically \n",
    "# means anything present in the square brackets can occur at the specified place\n",
    "pattern=re.compile(r'\\d\\d\\d[-.]\\d\\d\\d[-.]\\d\\d\\d\\d') \n",
    "matches=pattern.finditer(numbers)\n",
    "for match in matches:\n",
    "    print(match)\n",
    "#The character set used above matches/looks for only one character present in the square brackets "
   ]
  },
  {
   "cell_type": "code",
   "execution_count": 30,
   "metadata": {},
   "outputs": [
    {
     "name": "stdout",
     "output_type": "stream",
     "text": [
      "<re.Match object; span=(12, 24), match='615-555-7164'>\n",
      "<re.Match object; span=(102, 114), match='800-555-5669'>\n",
      "<re.Match object; span=(191, 203), match='560-555-5153'>\n",
      "<re.Match object; span=(281, 293), match='900-555-9340'>\n",
      "<re.Match object; span=(378, 390), match='714-555-7405'>\n",
      "<re.Match object; span=(467, 479), match='800-555-6771'>\n",
      "<re.Match object; span=(557, 569), match='783-555-4799'>\n",
      "<re.Match object; span=(647, 659), match='516-555-4615'>\n",
      "<re.Match object; span=(740, 752), match='127-555-1867'>\n",
      "<re.Match object; span=(829, 841), match='608-555-4938'>\n",
      "<re.Match object; span=(915, 927), match='568-555-6051'>\n",
      "<re.Match object; span=(1003, 1015), match='292-555-1875'>\n",
      "<re.Match object; span=(1091, 1103), match='900-555-3205'>\n",
      "<re.Match object; span=(1180, 1192), match='614-555-1166'>\n",
      "<re.Match object; span=(1269, 1281), match='530-555-2676'>\n",
      "<re.Match object; span=(1355, 1367), match='470-555-2750'>\n",
      "<re.Match object; span=(1439, 1451), match='800-555-6089'>\n",
      "<re.Match object; span=(1526, 1538), match='880-555-8319'>\n",
      "<re.Match object; span=(1614, 1626), match='777-555-8378'>\n",
      "<re.Match object; span=(1697, 1709), match='998-555-7385'>\n",
      "<re.Match object; span=(1790, 1802), match='800-555-7100'>\n",
      "<re.Match object; span=(1874, 1886), match='903-555-8277'>\n",
      "<re.Match object; span=(1962, 1974), match='196-555-5674'>\n",
      "<re.Match object; span=(2051, 2063), match='900-555-5118'>\n",
      "<re.Match object; span=(2135, 2147), match='905-555-1630'>\n",
      "<re.Match object; span=(2216, 2228), match='203-555-3475'>\n",
      "<re.Match object; span=(2300, 2312), match='884-555-8444'>\n",
      "<re.Match object; span=(2387, 2399), match='904-555-8559'>\n",
      "<re.Match object; span=(2475, 2487), match='889-555-7393'>\n",
      "<re.Match object; span=(2562, 2574), match='195-555-2405'>\n",
      "<re.Match object; span=(2647, 2659), match='321-555-9053'>\n",
      "<re.Match object; span=(2734, 2746), match='133-555-1711'>\n",
      "<re.Match object; span=(2826, 2838), match='900-555-5428'>\n",
      "<re.Match object; span=(2915, 2927), match='760-555-7147'>\n",
      "<re.Match object; span=(3012, 3024), match='391-555-6621'>\n",
      "<re.Match object; span=(3103, 3115), match='932-555-7724'>\n",
      "<re.Match object; span=(3192, 3204), match='609-555-7908'>\n",
      "<re.Match object; span=(3284, 3296), match='800-555-8810'>\n",
      "<re.Match object; span=(3372, 3384), match='149-555-7657'>\n",
      "<re.Match object; span=(3452, 3464), match='130-555-9709'>\n",
      "<re.Match object; span=(3535, 3547), match='143-555-9295'>\n",
      "<re.Match object; span=(3624, 3636), match='903-555-9878'>\n",
      "<re.Match object; span=(3714, 3726), match='574-555-3194'>\n",
      "<re.Match object; span=(3802, 3814), match='496-555-7533'>\n",
      "<re.Match object; span=(3887, 3899), match='210-555-3757'>\n",
      "<re.Match object; span=(3971, 3983), match='900-555-9598'>\n",
      "<re.Match object; span=(4056, 4068), match='866-555-9844'>\n",
      "<re.Match object; span=(4140, 4152), match='669-555-7159'>\n",
      "<re.Match object; span=(4225, 4237), match='152-555-7417'>\n",
      "<re.Match object; span=(4317, 4329), match='893-555-9832'>\n",
      "<re.Match object; span=(4407, 4419), match='217-555-7123'>\n",
      "<re.Match object; span=(4498, 4510), match='786-555-6544'>\n",
      "<re.Match object; span=(4588, 4600), match='780-555-2574'>\n",
      "<re.Match object; span=(4676, 4688), match='926-555-8735'>\n",
      "<re.Match object; span=(4762, 4774), match='895-555-3539'>\n",
      "<re.Match object; span=(4859, 4871), match='874-555-3949'>\n",
      "<re.Match object; span=(4945, 4957), match='800-555-2420'>\n",
      "<re.Match object; span=(5034, 5046), match='936-555-6340'>\n",
      "<re.Match object; span=(5123, 5135), match='372-555-9809'>\n",
      "<re.Match object; span=(5210, 5222), match='890-555-5618'>\n",
      "<re.Match object; span=(5292, 5304), match='670-555-3005'>\n",
      "<re.Match object; span=(5382, 5394), match='509-555-5997'>\n",
      "<re.Match object; span=(5475, 5487), match='721-555-5632'>\n",
      "<re.Match object; span=(5566, 5578), match='900-555-3567'>\n",
      "<re.Match object; span=(5656, 5668), match='147-555-6830'>\n",
      "<re.Match object; span=(5745, 5757), match='582-555-3426'>\n",
      "<re.Match object; span=(5830, 5842), match='400-555-1706'>\n",
      "<re.Match object; span=(5921, 5933), match='525-555-1793'>\n",
      "<re.Match object; span=(6011, 6023), match='317-555-6700'>\n",
      "<re.Match object; span=(6099, 6111), match='974-555-8301'>\n",
      "<re.Match object; span=(6189, 6201), match='800-555-3216'>\n",
      "<re.Match object; span=(6273, 6285), match='746-555-4094'>\n",
      "<re.Match object; span=(6360, 6372), match='922-555-1773'>\n",
      "<re.Match object; span=(6445, 6457), match='711-555-4427'>\n",
      "<re.Match object; span=(6530, 6542), match='355-555-1872'>\n",
      "<re.Match object; span=(6619, 6631), match='852-555-6521'>\n",
      "<re.Match object; span=(6711, 6723), match='691-555-5773'>\n",
      "<re.Match object; span=(6803, 6815), match='332-555-5441'>\n",
      "<re.Match object; span=(6889, 6901), match='900-555-7755'>\n",
      "<re.Match object; span=(6971, 6983), match='379-555-3685'>\n",
      "<re.Match object; span=(7061, 7073), match='127-555-9682'>\n",
      "<re.Match object; span=(7152, 7164), match='789-555-7032'>\n",
      "<re.Match object; span=(7243, 7255), match='783-555-5135'>\n",
      "<re.Match object; span=(7336, 7348), match='315-555-6507'>\n",
      "<re.Match object; span=(7427, 7439), match='481-555-5835'>\n",
      "<re.Match object; span=(7515, 7527), match='365-555-8287'>\n",
      "<re.Match object; span=(7607, 7619), match='911-555-7535'>\n",
      "<re.Match object; span=(7693, 7705), match='681-555-2460'>\n",
      "<re.Match object; span=(7779, 7791), match='274-555-9800'>\n",
      "<re.Match object; span=(7864, 7876), match='800-555-1372'>\n",
      "<re.Match object; span=(7953, 7965), match='300-555-7821'>\n",
      "<re.Match object; span=(8043, 8055), match='133-555-3889'>\n",
      "<re.Match object; span=(8129, 8141), match='705-555-6863'>\n",
      "<re.Match object; span=(8218, 8230), match='215-555-9449'>\n",
      "<re.Match object; span=(8309, 8321), match='988-555-6112'>\n",
      "<re.Match object; span=(8395, 8407), match='623-555-3006'>\n",
      "<re.Match object; span=(8479, 8491), match='192-555-4977'>\n",
      "<re.Match object; span=(8564, 8576), match='178-555-4899'>\n",
      "<re.Match object; span=(8648, 8660), match='952-555-3089'>\n",
      "<re.Match object; span=(8741, 8753), match='900-555-6426'>\n",
      "\n",
      "\n",
      "<re.Match object; span=(102, 114), match='800-555-5669'>\n",
      "<re.Match object; span=(281, 293), match='900-555-9340'>\n",
      "<re.Match object; span=(467, 479), match='800-555-6771'>\n",
      "<re.Match object; span=(1091, 1103), match='900-555-3205'>\n",
      "<re.Match object; span=(1439, 1451), match='800-555-6089'>\n",
      "<re.Match object; span=(1790, 1802), match='800-555-7100'>\n",
      "<re.Match object; span=(2051, 2063), match='900-555-5118'>\n",
      "<re.Match object; span=(2826, 2838), match='900-555-5428'>\n",
      "<re.Match object; span=(3284, 3296), match='800-555-8810'>\n",
      "<re.Match object; span=(3971, 3983), match='900-555-9598'>\n",
      "<re.Match object; span=(4945, 4957), match='800-555-2420'>\n",
      "<re.Match object; span=(5566, 5578), match='900-555-3567'>\n",
      "<re.Match object; span=(6189, 6201), match='800-555-3216'>\n",
      "<re.Match object; span=(6889, 6901), match='900-555-7755'>\n",
      "<re.Match object; span=(7864, 7876), match='800-555-1372'>\n",
      "<re.Match object; span=(8741, 8753), match='900-555-6426'>\n"
     ]
    }
   ],
   "source": [
    "with open('regexp_data.txt','r') as f:        #open data.txt in read mode and reads the data in it into contents variable\n",
    "    contents=f.read()\n",
    "    pattern=re.compile(r'\\d{3}[-.]\\d{3}[-.]\\d{4}')        #Instead of typing \\d n number of times we can specify the number \n",
    "    matches=pattern.finditer(contents)                    #of digits using quantifiers as shown here. For exanoke===\n",
    "    for match in matches:\n",
    "        print(match)\n",
    "    print('\\n')\n",
    "    #to look specifically for numbers starting with 800/900 we can use character set as below\n",
    "    pattern=re.compile(r'[89]00[-.]\\d{3}[-.]\\d{4}')\n",
    "    matches=pattern.finditer(contents)\n",
    "    for match in matches:\n",
    "        print(match)"
   ]
  },
  {
   "cell_type": "code",
   "execution_count": 23,
   "metadata": {},
   "outputs": [
    {
     "name": "stdout",
     "output_type": "stream",
     "text": [
      "<re.Match object; span=(0, 1), match='J'>\n",
      "<re.Match object; span=(1, 2), match='u'>\n",
      "<re.Match object; span=(2, 3), match='s'>\n",
      "<re.Match object; span=(3, 4), match='t'>\n",
      "<re.Match object; span=(5, 6), match='a'>\n",
      "<re.Match object; span=(7, 8), match='S'>\n",
      "<re.Match object; span=(8, 9), match='t'>\n",
      "<re.Match object; span=(9, 10), match='r'>\n",
      "<re.Match object; span=(10, 11), match='i'>\n",
      "<re.Match object; span=(11, 12), match='n'>\n",
      "<re.Match object; span=(12, 13), match='g'>\n",
      "<re.Match object; span=(16, 17), match='s'>\n",
      "<re.Match object; span=(17, 18), match='h'>\n",
      "<re.Match object; span=(18, 19), match='o'>\n",
      "<re.Match object; span=(19, 20), match='w'>\n",
      "<re.Match object; span=(21, 22), match='c'>\n",
      "<re.Match object; span=(22, 23), match='H'>\n",
      "<re.Match object; span=(23, 24), match='a'>\n",
      "<re.Match object; span=(24, 25), match='r'>\n",
      "<re.Match object; span=(25, 26), match='a'>\n",
      "<re.Match object; span=(26, 27), match='c'>\n",
      "<re.Match object; span=(27, 28), match='t'>\n",
      "<re.Match object; span=(28, 29), match='e'>\n",
      "<re.Match object; span=(29, 30), match='r'>\n",
      "<re.Match object; span=(31, 32), match='s'>\n",
      "<re.Match object; span=(32, 33), match='e'>\n",
      "<re.Match object; span=(33, 34), match='t'>\n",
      "<re.Match object; span=(35, 36), match='o'>\n",
      "<re.Match object; span=(36, 37), match='p'>\n",
      "<re.Match object; span=(37, 38), match='e'>\n",
      "<re.Match object; span=(38, 39), match='r'>\n",
      "<re.Match object; span=(39, 40), match='a'>\n",
      "<re.Match object; span=(40, 41), match='t'>\n",
      "<re.Match object; span=(41, 42), match='i'>\n",
      "<re.Match object; span=(42, 43), match='o'>\n",
      "<re.Match object; span=(43, 44), match='n'>\n",
      "<re.Match object; span=(44, 45), match='s'>\n",
      "<re.Match object; span=(48, 49), match='R'>\n",
      "<re.Match object; span=(49, 50), match='e'>\n",
      "<re.Match object; span=(50, 51), match='f'>\n",
      "<re.Match object; span=(51, 52), match='e'>\n",
      "<re.Match object; span=(52, 53), match='r'>\n",
      "<re.Match object; span=(53, 54), match='E'>\n",
      "<re.Match object; span=(54, 55), match='n'>\n",
      "<re.Match object; span=(55, 56), match='c'>\n",
      "<re.Match object; span=(56, 57), match='e'>\n"
     ]
    }
   ],
   "source": [
    "#Character set is a very useful tool in Regular Expressions and we will see few more examples\n",
    "sample='Just a String 2 show cHaracter set operations 4 ReferEnce'\n",
    "pattern=re.compile(r'[a-zA-Z]')           #captures all the alphabets be it lower case or upper case\n",
    "matches=pattern.finditer(sample)\n",
    "for match in matches:\n",
    "    print(match)                 # we can observe 2,4 and all the spaces are excluded from beeing captured"
   ]
  },
  {
   "cell_type": "code",
   "execution_count": 28,
   "metadata": {},
   "outputs": [
    {
     "name": "stdout",
     "output_type": "stream",
     "text": [
      "<re.Match object; span=(1, 4), match='bin'>\n",
      "<re.Match object; span=(5, 8), match='pin'>\n",
      "<re.Match object; span=(9, 12), match='sin'>\n",
      "<re.Match object; span=(13, 16), match='tin'>\n"
     ]
    }
   ],
   "source": [
    "#The caret symbol '^' behaves a bit differently inside the charcter set. It acts as negation operator meaning everything\n",
    "#other than the pattern inside the character set is matched. Let's see an example below\n",
    "example='''\n",
    "bin\n",
    "pin\n",
    "sin\n",
    "tin\n",
    "rin\n",
    "'''\n",
    "#here we want to match everything other than 'hin'\n",
    "pattern=re.compile(r'[^r]in')\n",
    "matches=pattern.finditer(example)\n",
    "for match in matches:\n",
    "    print(match)"
   ]
  },
  {
   "cell_type": "code",
   "execution_count": 95,
   "metadata": {},
   "outputs": [
    {
     "name": "stdout",
     "output_type": "stream",
     "text": [
      "<re.Match object; span=(1, 13), match='Mr. Chandler'>\n",
      "<re.Match object; span=(14, 24), match='Mrs.Monica'>\n",
      "<re.Match object; span=(25, 32), match='Mr.Joey'>\n",
      "<re.Match object; span=(33, 42), match='Ms Phoebe'>\n",
      "<re.Match object; span=(43, 50), match='Mr Ross'>\n",
      "<re.Match object; span=(51, 61), match='Ms. Rachel'>\n"
     ]
    }
   ],
   "source": [
    "friends='''\n",
    "Mr. Chandler\n",
    "Mrs.Monica\n",
    "Mr.Joey\n",
    "Ms Phoebe\n",
    "Mr Ross\n",
    "Ms. Rachel\n",
    "'''\n",
    "pattern=re.compile(r'(Mrs|Ms|Mr)\\.?\\s?\\w*')\n",
    "matches=pattern.finditer(friends)\n",
    "for match in matches:\n",
    "    print(match)"
   ]
  },
  {
   "cell_type": "code",
   "execution_count": 75,
   "metadata": {},
   "outputs": [
    {
     "name": "stdout",
     "output_type": "stream",
     "text": [
      "RishiKambhampati@gmail.com\n",
      "rishi.kambhampati@sastra.edu\n",
      "rishi-974-kambhampati@my-work.net\n"
     ]
    }
   ],
   "source": [
    "emails='''\n",
    "RishiKambhampati@gmail.com\n",
    "rishi.kambhampati@sastra.edu\n",
    "rishi-974-kambhampati@my-work.net\n",
    "'''\n",
    "pattern=re.compile(r'[A-Za-z0-9-.]+@[A-Za-z-]+\\.(com|edu|net)')\n",
    "matches=pattern.finditer(emails)\n",
    "for match in matches:\n",
    "    print(match.group(0))\n",
    "#In the above pattern search, the first character set looks out for small and capital letters along with numbers, period and \n",
    "#hyphens occuring one or more times which is indicated by the '+' sign  followed by '@'. This pattern is followed by a search\n",
    "#for alphabets capital or small occuring once or more. This is denoted by second character set. It is followed by period \n",
    "#and finally the tariling letters can either be com or edu or net enclosed in a paranthesis which is a group.\n",
    "#An alternative pattern search which is more generic can be written as follows\n",
    "#[A-Za-z0-9_.-]+@[A-Za-z0-9-]+\\.[A-za-z0-9-.]+"
   ]
  },
  {
   "cell_type": "code",
   "execution_count": 80,
   "metadata": {},
   "outputs": [
    {
     "name": "stdout",
     "output_type": "stream",
     "text": [
      "https://www.google.com\n",
      "http://rishi.com\n",
      "http://youtube.com\n",
      "http://www.isro.gov\n",
      "\n",
      "\n",
      "\n",
      "google.com\n",
      "rishi.com\n",
      "youtube.com\n",
      "isro.gov\n",
      "\n"
     ]
    }
   ],
   "source": [
    "urls='''\n",
    "https://www.google.com\n",
    "http://rishi.com\n",
    "http://youtube.com\n",
    "http://www.isro.gov\n",
    "'''\n",
    "pattern=re.compile(r'https?://(www\\.)?(\\w+)(\\.\\w+)')     \n",
    "matches=pattern.finditer(urls)\n",
    "for match in matches:\n",
    "    print(match.group(0))\n",
    "print('\\n')\n",
    "#Let us see how to get the domain names alone i.e google.com, youtube.com etc. To do this we have to enclose those in \n",
    "#paranthesis\n",
    "subbed_urls=pattern.sub(r'\\2\\3',urls)    #The second and third paranthesis/groups in the re.compile is used here as back reference\n",
    "print(subbed_urls)"
   ]
  },
  {
   "cell_type": "code",
   "execution_count": 93,
   "metadata": {},
   "outputs": [
    {
     "name": "stdout",
     "output_type": "stream",
     "text": [
      "['start', 'Start', 'START']\n"
     ]
    }
   ],
   "source": [
    "sample='To start a Start-up you need to START believing in yourself first'\n",
    "pattern=re.compile('start',re.IGNORECASE)        # to perform case insensitive search\n",
    "matches=pattern.findall(sample)                  #findall does the same as finditer but return them as list instead of objects\n",
    "print(matches)                                   #finditer has more details"
   ]
  },
  {
   "cell_type": "code",
   "execution_count": 97,
   "metadata": {},
   "outputs": [
    {
     "name": "stdout",
     "output_type": "stream",
     "text": [
      "['Mr', 'Mrs', 'Mr', 'Ms', 'Mr', 'Ms']\n"
     ]
    }
   ],
   "source": [
    "#findall when used with paranthesis as search pattern return only the pattern inside the paranthesis. let me show the same \n",
    "#example used in one of the above cases\n",
    "friends='''\n",
    "Mr. Chandler\n",
    "Mrs.Monica\n",
    "Mr.Joey\n",
    "Ms Phoebe\n",
    "Mr Ross\n",
    "Ms. Rachel\n",
    "'''\n",
    "pattern=re.compile(r'(Mrs|Ms|Mr)\\.?\\s?\\w*')\n",
    "matches=pattern.findall(friends)\n",
    "print(matches)\n",
    "#We can see that only Mr,Ms and Mrs are being returned as elements of a list"
   ]
  },
  {
   "cell_type": "code",
   "execution_count": 98,
   "metadata": {},
   "outputs": [
    {
     "name": "stdout",
     "output_type": "stream",
     "text": [
      "[('Mr', '.', ' ', 'Chandler'), ('Mrs', '.', '', 'Monica'), ('Mr', '.', '', 'Joey'), ('Ms', '', ' ', 'Phoebe'), ('Mr', '', ' ', 'Ross'), ('Ms', '.', ' ', 'Rachel')]\n"
     ]
    }
   ],
   "source": [
    "#When there is more than one group present in the search pattern, it returns them as a list of tuples\n",
    "pattern=re.compile(r'(Mrs|Ms|Mr)(\\.)?(\\s)?(\\w*)')\n",
    "matches=pattern.findall(friends)\n",
    "print(matches)\n",
    "#Hence I would generally prefer using finditer along with the groups function to search for the pattern"
   ]
  }
 ],
 "metadata": {
  "kernelspec": {
   "display_name": "Python 3",
   "language": "python",
   "name": "python3"
  },
  "language_info": {
   "codemirror_mode": {
    "name": "ipython",
    "version": 3
   },
   "file_extension": ".py",
   "mimetype": "text/x-python",
   "name": "python",
   "nbconvert_exporter": "python",
   "pygments_lexer": "ipython3",
   "version": "3.7.1"
  }
 },
 "nbformat": 4,
 "nbformat_minor": 2
}
