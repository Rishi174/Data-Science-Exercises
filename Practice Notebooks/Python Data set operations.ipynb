{
 "cells": [
  {
   "cell_type": "markdown",
   "metadata": {},
   "source": [
    "Let us consider a list of tuples as below"
   ]
  },
  {
   "cell_type": "code",
   "execution_count": 12,
   "metadata": {},
   "outputs": [
    {
     "data": {
      "text/plain": [
       "[('English', 85), ('Social Studies', 82), ('Maths', 98), ('Science', 92)]"
      ]
     },
     "execution_count": 12,
     "metadata": {},
     "output_type": "execute_result"
    }
   ],
   "source": [
    "scores=[('English',85),('Social Studies',82),('Maths',98),('Science',92)]\n",
    "scores"
   ]
  },
  {
   "cell_type": "code",
   "execution_count": 13,
   "metadata": {
    "scrolled": true
   },
   "outputs": [
    {
     "data": {
      "text/plain": [
       "{'English': 85, 'Social Studies': 82, 'Maths': 98, 'Science': 92}"
      ]
     },
     "execution_count": 13,
     "metadata": {},
     "output_type": "execute_result"
    }
   ],
   "source": [
    "d1=dict(scores) #convert the list of tuples to dictionary\n",
    "d1"
   ]
  },
  {
   "cell_type": "code",
   "execution_count": 14,
   "metadata": {},
   "outputs": [
    {
     "data": {
      "text/plain": [
       "[('Social Studies', 82), ('English', 85), ('Science', 92), ('Maths', 98)]"
      ]
     },
     "execution_count": 14,
     "metadata": {},
     "output_type": "execute_result"
    }
   ],
   "source": [
    "#sorting a dictionary \n",
    "sorted_dict=sorted(d1.items(),key=lambda x:x[1])\n",
    "sorted_dict\n",
    "#On applying the sorted function, the dictionary is converted to list of tuples "
   ]
  },
  {
   "cell_type": "code",
   "execution_count": 15,
   "metadata": {},
   "outputs": [
    {
     "data": {
      "text/plain": [
       "['Social Studies', 'English', 'Science', 'Maths']"
      ]
     },
     "execution_count": 15,
     "metadata": {},
     "output_type": "execute_result"
    }
   ],
   "source": [
    "#A method to get the keys alone sorted according to the values\n",
    "keys_alone=sorted(d1,key=d1.get)\n",
    "keys_alone"
   ]
  },
  {
   "cell_type": "code",
   "execution_count": 16,
   "metadata": {},
   "outputs": [
    {
     "data": {
      "text/plain": [
       "[('Social Studies', 82), ('English', 85), ('Science', 92), ('Maths', 98)]"
      ]
     },
     "execution_count": 16,
     "metadata": {},
     "output_type": "execute_result"
    }
   ],
   "source": [
    "scores_sorted_asc=sorted(scores,key=lambda x:x[-1]) #sorting the list of tuples based on the marks obtained in each subject \n",
    "scores_sorted_asc\n",
    "#Here the each tuple from list of tuples is sent as arguments to lambda"
   ]
  },
  {
   "cell_type": "code",
   "execution_count": 17,
   "metadata": {},
   "outputs": [
    {
     "data": {
      "text/plain": [
       "[('Maths', 98), ('Science', 92), ('English', 85), ('Social Studies', 82)]"
      ]
     },
     "execution_count": 17,
     "metadata": {},
     "output_type": "execute_result"
    }
   ],
   "source": [
    "scores_sorted_desc=sorted(scores,key=lambda x:x[-1],reverse=True)\n",
    "scores_sorted_desc"
   ]
  },
  {
   "cell_type": "code",
   "execution_count": 18,
   "metadata": {},
   "outputs": [
    {
     "data": {
      "text/plain": [
       "['English', 85, 'Social Studies', 82, 'Maths', 98, 'Science', 92]"
      ]
     },
     "execution_count": 18,
     "metadata": {},
     "output_type": "execute_result"
    }
   ],
   "source": [
    "listoftuples_to_list=[j for i in scores for j in i]    #converting list of tuples to a list\n",
    "listoftuples_to_list"
   ]
  },
  {
   "cell_type": "code",
   "execution_count": 19,
   "metadata": {},
   "outputs": [
    {
     "data": {
      "text/plain": [
       "['English', 'Social Studies', 'Maths', 'Science']"
      ]
     },
     "execution_count": 19,
     "metadata": {},
     "output_type": "execute_result"
    }
   ],
   "source": [
    "subjects=[i for (i,j) in scores]       #Extracting the first element from each tuple in list of tuples\n",
    "subjects"
   ]
  },
  {
   "cell_type": "code",
   "execution_count": 21,
   "metadata": {},
   "outputs": [
    {
     "data": {
      "text/plain": [
       "(85, 82, 98, 92)"
      ]
     },
     "execution_count": 21,
     "metadata": {},
     "output_type": "execute_result"
    }
   ],
   "source": [
    "#Tuple unpacking\n",
    "subjects,sco=zip(*scores)"
   ]
  },
  {
   "cell_type": "code",
   "execution_count": 15,
   "metadata": {},
   "outputs": [
    {
     "data": {
      "text/plain": [
       "English           85\n",
       "Social Studies    82\n",
       "Maths             98\n",
       "Science           92\n",
       "dtype: int64"
      ]
     },
     "execution_count": 15,
     "metadata": {},
     "output_type": "execute_result"
    }
   ],
   "source": [
    "import pandas as pd        \n",
    "scores_series=pd.Series(d1)           #convert a list of tuples to a Pandas Series with the first element as Index and the second\n",
    "                                       # element as value\n",
    "scores_series"
   ]
  },
  {
   "cell_type": "code",
   "execution_count": null,
   "metadata": {},
   "outputs": [],
   "source": []
  }
 ],
 "metadata": {
  "kernelspec": {
   "display_name": "Python 3",
   "language": "python",
   "name": "python3"
  },
  "language_info": {
   "codemirror_mode": {
    "name": "ipython",
    "version": 3
   },
   "file_extension": ".py",
   "mimetype": "text/x-python",
   "name": "python",
   "nbconvert_exporter": "python",
   "pygments_lexer": "ipython3",
   "version": "3.7.1"
  }
 },
 "nbformat": 4,
 "nbformat_minor": 2
}
