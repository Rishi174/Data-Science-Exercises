{
 "cells": [
  {
   "cell_type": "code",
   "execution_count": 1,
   "metadata": {},
   "outputs": [
    {
     "name": "stdout",
     "output_type": "stream",
     "text": [
      "9\n"
     ]
    }
   ],
   "source": [
    "#Max span challenge from coding bat\n",
    "data=[1,2,3,4,5,1,2,2,2,9,3]\n",
    "temp=[]\n",
    "spans=[]\n",
    "for i in range(len(data)):\n",
    "    if data[i] in temp:\n",
    "        continue\n",
    "    first=data.index(data[i])\n",
    "    last=data[::-1].index(data[i])\n",
    "    last=len(data)-last\n",
    "    spans.append(last-first)\n",
    "span=max(spans)\n",
    "print(span)"
   ]
  }
 ],
 "metadata": {
  "kernelspec": {
   "display_name": "Python 3",
   "language": "python",
   "name": "python3"
  },
  "language_info": {
   "codemirror_mode": {
    "name": "ipython",
    "version": 3
   },
   "file_extension": ".py",
   "mimetype": "text/x-python",
   "name": "python",
   "nbconvert_exporter": "python",
   "pygments_lexer": "ipython3",
   "version": "3.7.1"
  }
 },
 "nbformat": 4,
 "nbformat_minor": 2
}
