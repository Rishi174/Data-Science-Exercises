{
 "cells": [
  {
   "cell_type": "code",
   "execution_count": 1,
   "metadata": {},
   "outputs": [
    {
     "name": "stdout",
     "output_type": "stream",
     "text": [
      "9\n"
     ]
    }
   ],
   "source": [
    "#Max span challenge from coding bat\n",
    "data=[1,2,3,4,5,1,2,2,2,9,3]\n",
    "temp=[]\n",
    "spans=[]\n",
    "for i in range(len(data)):\n",
    "    if data[i] in temp:\n",
    "        continue\n",
    "    first=data.index(data[i])\n",
    "    last=data[::-1].index(data[i])\n",
    "    last=len(data)-last\n",
    "    spans.append(last-first)\n",
    "span=max(spans)\n",
    "print(span)"
   ]
  },
  {
   "cell_type": "code",
   "execution_count": 3,
   "metadata": {},
   "outputs": [
    {
     "data": {
      "text/plain": [
       "True"
      ]
     },
     "execution_count": 3,
     "metadata": {},
     "output_type": "execute_result"
    }
   ],
   "source": [
    "#Valid Sudoku checker\n",
    "board=[\n",
    "  [\"5\",\"3\",\".\",\".\",\"7\",\".\",\".\",\".\",\".\"],\n",
    "  [\"6\",\".\",\".\",\"1\",\"9\",\"5\",\".\",\".\",\".\"],\n",
    "  [\".\",\"9\",\"8\",\".\",\".\",\".\",\".\",\"6\",\".\"],\n",
    "  [\"8\",\".\",\".\",\".\",\"6\",\".\",\".\",\".\",\"3\"],\n",
    "  [\"4\",\".\",\".\",\"8\",\".\",\"3\",\".\",\".\",\"1\"],\n",
    "  [\"7\",\".\",\".\",\".\",\"2\",\".\",\".\",\".\",\"6\"],\n",
    "  [\".\",\"6\",\".\",\".\",\".\",\".\",\"2\",\"8\",\".\"],\n",
    "  [\".\",\".\",\".\",\"4\",\"1\",\"9\",\".\",\".\",\"5\"],\n",
    "  [\".\",\".\",\".\",\".\",\"8\",\".\",\".\",\"7\",\"9\"]\n",
    "]\n",
    "def isValidSudoku(board):\n",
    "        board_transpose=[list(x) for x in zip(*board)]\n",
    "        def check_line(line):\n",
    "            for i in line:\n",
    "                if i!='.':\n",
    "                    for j in line[line.index(i)+1:]:\n",
    "                        if i==j:\n",
    "                            return False\n",
    "            return True\n",
    "        def start(input_list):\n",
    "            for i in input_list:\n",
    "                flag=check_line(i)\n",
    "                if flag==False:\n",
    "                    return False\n",
    "            return True\n",
    "        flag1=start(board)\n",
    "        if flag1==False:\n",
    "            return False\n",
    "        flag2=start(board_transpose)\n",
    "        return flag2\n",
    "isValidSudoku(board)"
   ]
  },
  {
   "cell_type": "code",
   "execution_count": 4,
   "metadata": {},
   "outputs": [
    {
     "data": {
      "text/plain": [
       "'Hllo thr'"
      ]
     },
     "execution_count": 4,
     "metadata": {},
     "output_type": "execute_result"
    }
   ],
   "source": [
    "#Remove all instances of a  sub string from string\n",
    "def remove_sub(string,sub):\n",
    "    sub_len=len(sub)\n",
    "    while (string.find(sub)!=-1):\n",
    "        index=string.index(sub)\n",
    "        string=string[0:index]+string[index+sub_len:]\n",
    "    return string\n",
    "remove_sub(\"Hello there\", \"e\")"
   ]
  }
 ],
 "metadata": {
  "kernelspec": {
   "display_name": "Python 3",
   "language": "python",
   "name": "python3"
  },
  "language_info": {
   "codemirror_mode": {
    "name": "ipython",
    "version": 3
   },
   "file_extension": ".py",
   "mimetype": "text/x-python",
   "name": "python",
   "nbconvert_exporter": "python",
   "pygments_lexer": "ipython3",
   "version": "3.7.1"
  }
 },
 "nbformat": 4,
 "nbformat_minor": 2
}
